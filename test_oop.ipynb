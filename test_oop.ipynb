{
 "cells": [
  {
   "cell_type": "code",
   "execution_count": 0,
   "outputs": [],
   "source": [
    "from func import *\n",
    "from deap import base, creator, tools, algorithms\n"
   ],
   "metadata": {
    "collapsed": false,
    "pycharm": {
     "name": "#%%\n"
    }
   }
  },
  {
   "cell_type": "code",
   "execution_count": 0,
   "outputs": [],
   "source": [
    "def eval_tt(individual):\n",
    "    return individual.loss(),\n"
   ],
   "metadata": {
    "collapsed": false,
    "pycharm": {
     "name": "#%%\n"
    }
   }
  },
  {
   "cell_type": "code",
   "execution_count": 0,
   "outputs": [],
   "source": [
    "def crossover(ind1, ind2):\n",
    "    \"\"\"Apply a crossover operation on input sets. The first child is the\n",
    "    intersection of the two sets, the second child is the difference of the\n",
    "    two sets.\n",
    "    \"\"\"\n",
    "    ch1_tasks = []\n",
    "    ch2_tasks = []\n",
    "    default_tt = ind1.timetable\n",
    "    mask = np.random.randint(2, size=len(ind1.tasks)).tolist()\n",
    "    for t1, t2, m in zip(ind1.tasks, ind2.tasks, mask):\n",
    "        if m == 0:\n",
    "            ch1_tasks.append(t1)\n",
    "            ch2_tasks.append(t2)\n",
    "        else:\n",
    "            ch1_tasks.append(t2)\n",
    "            ch2_tasks.append(t1)\n",
    "\n",
    "    ch1 = creator.Individual(default_tt, ch1_tasks, randomized=False)\n",
    "    ch2 = creator.Individual(default_tt, ch2_tasks, randomized=False)\n",
    "\n",
    "    return ch1, ch2\n"
   ],
   "metadata": {
    "collapsed": false,
    "pycharm": {
     "name": "#%%\n"
    }
   }
  },
  {
   "cell_type": "code",
   "execution_count": 0,
   "outputs": [],
   "source": [
    "def mutation(individual):\n",
    "    \"\"\"Mutation that pops or add an element.\"\"\"\n",
    "    if random.random()>0.995:\n",
    "        print(\"SUPER\")\n",
    "        # individual.zero_gravity()\n",
    "        individual.gravity()\n",
    "\n",
    "    for task in individual.tasks:\n",
    "        if random.random() < 0.5:\n",
    "            if random.random() < 0.5:\n",
    "                task.rnd_step(individual, individual.len_x, individual.len_y)\n",
    "            else:\n",
    "                task.rnd_relocate(individual, individual.len_x, individual.len_y)\n",
    "\n",
    "    return individual,\n"
   ],
   "metadata": {
    "collapsed": false,
    "pycharm": {
     "name": "#%%\n"
    }
   }
  },
  {
   "cell_type": "code",
   "execution_count": 0,
   "outputs": [],
   "source": [
    "def toolbox_generator(tm, filtered_tasks):\n",
    "    toolbox = base.Toolbox()\n",
    "    toolbox.register(\"individual\", creator.Individual, tm, filtered_tasks)\n",
    "    toolbox.register(\"population\", tools.initRepeat, list, toolbox.individual)\n",
    "\n",
    "    toolbox.register(\"evaluate\", eval_tt)\n",
    "    toolbox.register(\"mate\", crossover)\n",
    "    toolbox.register(\"mutate\", mutation)\n",
    "    toolbox.register(\"select\", tools.selTournament, tournsize=3)\n",
    "\n",
    "    return toolbox\n"
   ],
   "metadata": {
    "collapsed": false,
    "pycharm": {
     "name": "#%%\n"
    }
   }
  },
  {
   "cell_type": "code",
   "execution_count": 0,
   "outputs": [],
   "source": [
    "def evolution(toolbox, parameters):\n",
    "\n",
    "    n = parameters['n']\n",
    "    cxpb = parameters['cxpb']\n",
    "    mutpb = parameters['mutpb']\n",
    "    ngen = parameters['ngen']\n",
    "\n",
    "    pop = toolbox.population(n=n)\n",
    "    hof = tools.HallOfFame(1, similar=np.array_equal)\n",
    "\n",
    "    stats = tools.Statistics(lambda individ: individ.fitness.values)\n",
    "    stats.register(\"avg\", np.mean)\n",
    "    stats.register(\"std\", np.std)\n",
    "    stats.register(\"min\", np.min)\n",
    "    stats.register(\"max\", np.max)\n",
    "\n",
    "    poppy, statss = algorithms.eaSimple(pop, toolbox, cxpb=cxpb, mutpb=mutpb, ngen=ngen, stats=stats,\n",
    "                                        halloffame=hof\n",
    "                                        )\n",
    "    return poppy, statss, hof\n"
   ],
   "metadata": {
    "collapsed": false,
    "pycharm": {
     "name": "#%%\n"
    }
   }
  },
  {
   "cell_type": "code",
   "execution_count": 0,
   "outputs": [],
   "source": [
    "def main():\n",
    "\n",
    "    date = '2020-04-06T00:00:00'\n",
    "    date_index = 0\n",
    "\n",
    "    timetables = timetables_from_excel('data/TimeTable.xlsx')\n",
    "    mechanics, electrics = create_workers_from_array(timetables)\n",
    "    tm = Timetable(date_index, mechanics)\n",
    "\n",
    "    tasks = tasks_from_excel('data/БДСМ.xlsx')\n",
    "    filtered_tasks = tasks_from_df(tasks, date)\n",
    "    fm = Field(tm, filtered_tasks)\n",
    "    fm.randomize_timelines()\n",
    "    fm.plot_empty()\n",
    "\n",
    "    creator.create(\"Fitness\", base.Fitness, weights=(-1.0,))\n",
    "    creator.create(\"Individual\", Field, fitness=creator.Fitness)\n",
    "\n",
    "    toolbox = toolbox_generator(tm, filtered_tasks)\n",
    "\n",
    "    parameters ={\n",
    "        'n': 20,\n",
    "        'cxpb':0.5,\n",
    "        'mutpb': 0.5,\n",
    "        'ngen': 15,\n",
    "    }\n",
    "\n",
    "    population, statistics, hof = evolution(toolbox, parameters)\n",
    "\n",
    "    best = hof[0]\n",
    "    best.plot(title=str(parameters))\n",
    "    best.statistics()\n",
    "\n",
    "    gen, avg, min_, max_ = statistics.select(\"gen\", \"avg\", \"min\", \"max\")\n",
    "    plt.plot(gen, avg, label=\"average\")\n",
    "    plt.plot(gen, min_, label=\"minimum\")\n",
    "    plt.plot(gen, max_, label=\"maximum\")\n",
    "    plt.xlabel(\"Generation\")\n",
    "    plt.ylabel(\"Fitness\")\n",
    "    plt.legend(loc=\"upper right\")\n",
    "    plt.show()\n",
    "\n",
    "    best.zero_gravity()\n",
    "    # best.plot()\n",
    "    best.gravity()\n",
    "    best.plot(title=str(parameters)+ \" after gravity\")\n",
    "    best.statistics()\n",
    "    best.table_representation()\n"
   ],
   "metadata": {
    "collapsed": false,
    "pycharm": {
     "name": "#%%\n"
    }
   }
  },
  {
   "cell_type": "code",
   "execution_count": 0,
   "outputs": [],
   "source": [
    "if __name__ == '__main__':\n",
    "    main()"
   ],
   "metadata": {
    "collapsed": false,
    "pycharm": {
     "name": "#%%\n"
    }
   }
  }
 ],
 "metadata": {
  "kernelspec": {
   "display_name": "Python 3",
   "language": "python",
   "name": "python3"
  },
  "language_info": {
   "codemirror_mode": {
    "name": "ipython",
    "version": 2
   },
   "file_extension": ".py",
   "mimetype": "text/x-python",
   "name": "python",
   "nbconvert_exporter": "python",
   "pygments_lexer": "ipython2",
   "version": "2.7.6"
  }
 },
 "nbformat": 4,
 "nbformat_minor": 0
}