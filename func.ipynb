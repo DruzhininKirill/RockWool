{
 "cells": [
  {
   "cell_type": "code",
   "execution_count": 1,
   "metadata": {
    "collapsed": true
   },
   "outputs": [],
   "source": [
    "import numpy as np\n",
    "import pandas as pd\n",
    "import copy\n",
    "import matplotlib.pyplot as plt\n"
   ]
  },
  {
   "cell_type": "code",
   "execution_count": 2,
   "outputs": [],
   "source": [
    "def tasks_from_excel(path, skiprows=1):\n",
    "    tasks = pd.read_excel(open(path, 'rb'), skiprows=skiprows)\n",
    "    # print(tasks)\n",
    "\n",
    "    days = tasks.drop_duplicates('Срок начала')['Срок начала'].tolist()\n",
    "\n",
    "    isodays = []   \n",
    "\n",
    "    for day in days:\n",
    "        isodays.append(str(day.isoformat()))\n",
    "\n",
    "    m_tasks_in_day = {key: {'high':[], 'low':[]} for key in isodays}\n",
    "    \n",
    "    e_tasks_in_day = copy.deepcopy(m_tasks_in_day)\n",
    "    # print(m_tasks_in_day)\n",
    "\n",
    "    m_tasks = tasks[tasks['Отдел'] == 'VYB_MEC']\n",
    "    e_tasks = tasks[tasks['Отдел'] == 'VYB_ELE']\n",
    "    # print(m_tasks)\n",
    "    for day in days:\n",
    "        m_tasks_in_day[str(day.isoformat())]['high'] = m_tasks[(m_tasks['Приоритет'] == 1) & (m_tasks['Срок начала'] == day)]\n",
    "        m_tasks_in_day[str(day.isoformat())]['low'] = m_tasks[(m_tasks['Приоритет'] == 0) & (m_tasks['Срок начала'] == day)]\n",
    "        \n",
    "        e_tasks_in_day[str(day.isoformat())]['high'] = e_tasks[(e_tasks['Приоритет'] == 1) & (e_tasks['Срок начала'] == day)]\n",
    "        e_tasks_in_day[str(day.isoformat())]['low'] = e_tasks[(e_tasks['Приоритет'] == 0) & (e_tasks['Срок начала'] == day)]\n",
    "\n",
    "    print(e_tasks_in_day)\n",
    "    print(\"\\n\\n\\n\")\n",
    "    print(m_tasks_in_day)\n",
    "\n",
    "    tasks = {\n",
    "        \"m_tasks\": m_tasks_in_day,\n",
    "        \"e_tasks\": e_tasks_in_day\n",
    "    }\n",
    "    return tasks\n"
   ],
   "metadata": {
    "collapsed": false,
    "pycharm": {
     "name": "#%%\n"
    }
   }
  },
  {
   "cell_type": "code",
   "execution_count": 3,
   "outputs": [
    {
     "name": "stdout",
     "output_type": "stream",
     "text": [
      "{'2020-04-06T00:00:00': {'high':     Номер заказа           Описание  Общее время  Требуется человек  \\\n",
      "14   79117385958   Взлом копьютера2          1.0                  1   \n",
      "17   79117385961      Мытье посуды2          4.0                  1   \n",
      "18   79117385962  Натягивание нити2          8.0                  1   \n",
      "\n",
      "   Особые исполнители Срок начала Срок конца  Приоритет    Отдел  \n",
      "14                NaN  2020-04-06 2020-04-06          1  VYB_ELE  \n",
      "17                NaN  2020-04-06 2020-04-06          1  VYB_ELE  \n",
      "18                NaN  2020-04-06 2020-04-06          1  VYB_ELE  , 'low':     Номер заказа               Описание  Общее время  Требуется человек  \\\n",
      "15   79117385959  Очистка от насекомых2         24.0                  3   \n",
      "16   79117385960         Розжиг костра2          5.0                  1   \n",
      "\n",
      "   Особые исполнители Срок начала Срок конца  Приоритет    Отдел  \n",
      "15                NaN  2020-04-06 2020-04-06          0  VYB_ELE  \n",
      "16                NaN  2020-04-06 2020-04-06          0  VYB_ELE  }, '2020-04-07T00:00:00': {'high': Empty DataFrame\n",
      "Columns: [Номер заказа, Описание, Общее время, Требуется человек, Особые исполнители, Срок начала, Срок конца, Приоритет, Отдел]\n",
      "Index: [], 'low':     Номер заказа Описание  Общее время  Требуется человек Особые исполнители  \\\n",
      "24   79117385968    task6          9.0                  6                NaN   \n",
      "25   79117385969    task7         10.0                  7                NaN   \n",
      "26   79117385970    task8         11.0                  8                NaN   \n",
      "27   79117385971    task9         12.0                  9                NaN   \n",
      "\n",
      "   Срок начала Срок конца  Приоритет    Отдел  \n",
      "24  2020-04-07 2020-04-07          0  VYB_ELE  \n",
      "25  2020-04-07 2020-04-07          0  VYB_ELE  \n",
      "26  2020-04-07 2020-04-07          0  VYB_ELE  \n",
      "27  2020-04-07 2020-04-07          0  VYB_ELE  }}\n",
      "\n",
      "\n",
      "\n",
      "\n",
      "{'2020-04-06T00:00:00': {'high':     Номер заказа          Описание  Общее время  Требуется человек  \\\n",
      "4    79117385948     Монтаж болтов          2.0                  1   \n",
      "9    79117385953   Взлом копьютера          1.0                  1   \n",
      "12   79117385956      Мытье посуды          4.0                  1   \n",
      "13   79117385957  Натягивание нити          8.0                  1   \n",
      "\n",
      "   Особые исполнители Срок начала Срок конца  Приоритет    Отдел  \n",
      "4                 NaN  2020-04-06 2020-04-06          1  VYB_MEC  \n",
      "9                 NaN  2020-04-06 2020-04-06          1  VYB_MEC  \n",
      "12                NaN  2020-04-06 2020-04-06          1  VYB_MEC  \n",
      "13                NaN  2020-04-06 2020-04-06          1  VYB_MEC  , 'low':     Номер заказа              Описание  Общее время  Требуется человек  \\\n",
      "0    79117385944  Ремонт ножки столика          6.0                  2   \n",
      "1    79117385945    Ремонт ручки двери          8.0                  1   \n",
      "2    79117385946    Проверка двигателя         12.0                  2   \n",
      "3    79117385947           Осмотр цеха          8.0                  1   \n",
      "5    79117385949         Закрутка гаек          7.2                  1   \n",
      "6    79117385950      Раскрутка винтов          8.0                  1   \n",
      "7    79117385951            Мытье окон          3.0                  1   \n",
      "8    79117385952         Ремонт экрана          8.0                  2   \n",
      "10   79117385954  Очистка от насекомых         24.0                  3   \n",
      "11   79117385955         Розжиг костра          5.0                  1   \n",
      "\n",
      "   Особые исполнители Срок начала Срок конца  Приоритет    Отдел  \n",
      "0                 NaN  2020-04-06 2020-04-06          0  VYB_MEC  \n",
      "1                 NaN  2020-04-06 2020-04-06          0  VYB_MEC  \n",
      "2   M_K_VLGO M_K_VLST  2020-04-06 2020-04-06          0  VYB_MEC  \n",
      "3                 NaN  2020-04-06 2020-04-06          0  VYB_MEC  \n",
      "5                 NaN  2020-04-06 2020-04-06          0  VYB_MEC  \n",
      "6                 NaN  2020-04-06 2020-04-06          0  VYB_MEC  \n",
      "7                 NaN  2020-04-06 2020-04-06          0  VYB_MEC  \n",
      "8            M_K_MKAP  2020-04-06 2020-04-06          0  VYB_MEC  \n",
      "10                NaN  2020-04-06 2020-04-06          0  VYB_MEC  \n",
      "11                NaN  2020-04-06 2020-04-06          0  VYB_MEC  }, '2020-04-07T00:00:00': {'high': Empty DataFrame\n",
      "Columns: [Номер заказа, Описание, Общее время, Требуется человек, Особые исполнители, Срок начала, Срок конца, Приоритет, Отдел]\n",
      "Index: [], 'low':     Номер заказа Описание  Общее время  Требуется человек Особые исполнители  \\\n",
      "19   79117385963    task1          4.0                  1                NaN   \n",
      "20   79117385964    task2          5.0                  2                NaN   \n",
      "21   79117385965    task3          6.0                  3                NaN   \n",
      "22   79117385966    task4          7.0                  4                NaN   \n",
      "23   79117385967    task5          8.0                  5                NaN   \n",
      "\n",
      "   Срок начала Срок конца  Приоритет    Отдел  \n",
      "19  2020-04-07 2020-04-07          0  VYB_MEC  \n",
      "20  2020-04-07 2020-04-07          0  VYB_MEC  \n",
      "21  2020-04-07 2020-04-07          0  VYB_MEC  \n",
      "22  2020-04-07 2020-04-07          0  VYB_MEC  \n",
      "23  2020-04-07 2020-04-07          0  VYB_MEC  }}\n"
     ]
    },
    {
     "data": {
      "text/plain": "0"
     },
     "execution_count": 3,
     "metadata": {},
     "output_type": "execute_result"
    }
   ],
   "source": [
    "tasks_from_excel('data/БДСМ.xlsx')\n",
    "\n"
   ],
   "metadata": {
    "collapsed": false,
    "pycharm": {
     "name": "#%%\n"
    }
   }
  },
  {
   "cell_type": "code",
   "execution_count": 3,
   "outputs": [],
   "source": [
    "\n"
   ],
   "metadata": {
    "collapsed": false,
    "pycharm": {
     "name": "#%%\n"
    }
   }
  }
 ],
 "metadata": {
  "kernelspec": {
   "display_name": "Python 3",
   "language": "python",
   "name": "python3"
  },
  "language_info": {
   "codemirror_mode": {
    "name": "ipython",
    "version": 2
   },
   "file_extension": ".py",
   "mimetype": "text/x-python",
   "name": "python",
   "nbconvert_exporter": "python",
   "pygments_lexer": "ipython2",
   "version": "2.7.6"
  }
 },
 "nbformat": 4,
 "nbformat_minor": 0
}